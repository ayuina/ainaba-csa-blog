{
 "cells": [
  {
   "cell_type": "markdown",
   "metadata": {
    "vscode": {
     "languageId": "polyglot-notebook"
    }
   },
   "source": [
    "## 構成ファイルの読み込み"
   ]
  },
  {
   "cell_type": "code",
   "execution_count": 1,
   "metadata": {
    "dotnet_interactive": {
     "language": "csharp"
    },
    "polyglot_notebook": {
     "kernelName": "csharp"
    },
    "vscode": {
     "languageId": "polyglot-notebook"
    }
   },
   "outputs": [
    {
     "data": {
      "text/html": [
       "<div><div></div><div></div><div><strong>Installed Packages</strong><ul><li><span>Microsoft.Extensions.Configuration, 8.0.0</span></li><li><span>Microsoft.Extensions.Configuration.Json, 8.0.0</span></li></ul></div></div>"
      ]
     },
     "metadata": {},
     "output_type": "display_data"
    }
   ],
   "source": [
    "#r \"nuget: Microsoft.Extensions.Configuration, 8.0.0\"\n",
    "#r \"nuget: Microsoft.Extensions.Configuration.Json, 8.0.0\"\n",
    "\n",
    "using System.IO;\n",
    "using Microsoft.Extensions.Configuration;\n",
    "\n",
    "var config = new ConfigurationBuilder()\n",
    "    .AddJsonFile( Path.Combine(Environment.CurrentDirectory, \"appsettings.json\"))\n",
    "    .Build();\n",
    "var endpoint = config[\"AOAI_ENDPOINT\"];\n",
    "var modelDeploy = config[\"MODEL_DEPLOY_NAME\"];\n"
   ]
  },
  {
   "cell_type": "markdown",
   "metadata": {},
   "source": [
    "## Semantic Kernel および 周辺ライブラリを読み込み\n",
    "\n",
    "本記事執筆時点（2024 年 11 月 12 日）ではライブラリのアップデートが頻繁なためバージョンを 1.28.0 に固定。\n",
    "今後のアップデートでは動作しなくなる可能性もあるため注意。\n",
    "\n",
    "- [nuget: Semantic Kernel](https://www.nuget.org/packages/Microsoft.SemanticKernel)\n"
   ]
  },
  {
   "cell_type": "code",
   "execution_count": 2,
   "metadata": {
    "dotnet_interactive": {
     "language": "csharp"
    },
    "polyglot_notebook": {
     "kernelName": "csharp"
    },
    "vscode": {
     "languageId": "polyglot-notebook"
    }
   },
   "outputs": [
    {
     "data": {
      "text/html": [
       "<div><div></div><div></div><div><strong>Installed Packages</strong><ul><li><span>Azure.Identity, 1.13.1</span></li><li><span>Microsoft.Extensions.DependencyInjection, 8.0.1</span></li><li><span>Microsoft.Extensions.Logging, 8.0.1</span></li><li><span>Microsoft.Extensions.Logging.Console, 8.0.1</span></li><li><span>Microsoft.SemanticKernel, 1.28.0</span></li></ul></div></div>"
      ]
     },
     "metadata": {},
     "output_type": "display_data"
    }
   ],
   "source": [
    "#r \"nuget: Microsoft.SemanticKernel, 1.28.0\"\n",
    "#r \"nuget: Azure.Identity\"\n",
    "#r \"nuget: Microsoft.Extensions.DependencyInjection\"\n",
    "#r \"nuget: Microsoft.Extensions.Logging\"\n",
    "#r \"nuget: Microsoft.Extensions.Logging.Console\"\n"
   ]
  },
  {
   "cell_type": "markdown",
   "metadata": {},
   "source": [
    "### ネイティブ プラグイン を定義\n",
    "\n",
    "サンプルのため簡単なものを２つだけ定義"
   ]
  },
  {
   "cell_type": "code",
   "execution_count": 3,
   "metadata": {
    "vscode": {
     "languageId": "polyglot-notebook"
    }
   },
   "outputs": [],
   "source": [
    "using Microsoft.SemanticKernel;\n",
    "using Microsoft.Extensions.Logging;\n",
    "using System.ComponentModel;\n",
    "\n",
    "public class MyPlugin(ILogger<MyPlugin> logger)\n",
    "{\n",
    "    [KernelFunction(\"get_today\")]\n",
    "    [Description(\"今日の日付を取得します\")]\n",
    "    [return: Description(\"今日の日付\")]\n",
    "    public DateTimeOffset GetToday()\n",
    "    {\n",
    "        logger.LogInformation(\"getting today\");\n",
    "        return DateTimeOffset.UtcNow;\n",
    "    }\n",
    "\n",
    "    [KernelFunction(\"get_weather\")]\n",
    "    [Description(\"指定の日付の天気を回答します。過去日付の場合は履歴を、未来日付の場合は予報をこたえます。\")]\n",
    "    [return: Description(\"天気\")]\n",
    "    public string GetWeater(DateTimeOffset date)\n",
    "    {\n",
    "        logger.LogInformation(\"getting weather on {date}\", date);\n",
    "        var weather = new string[]{\"晴れ\", \"曇り\", \"雨\", \"雪\"};\n",
    "        return weather[new Random().Next(0, weather.Length)];\n",
    "    }\n",
    "}"
   ]
  },
  {
   "cell_type": "markdown",
   "metadata": {},
   "source": [
    "### Kernel にプラグインを読み込んで組み立てる"
   ]
  },
  {
   "cell_type": "code",
   "execution_count": 4,
   "metadata": {
    "vscode": {
     "languageId": "polyglot-notebook"
    }
   },
   "outputs": [],
   "source": [
    "using Microsoft.Extensions.DependencyInjection;\n",
    "using Azure.Identity;\n",
    "\n",
    "// Azure OpenAI\n",
    "var builder = Kernel.CreateBuilder()\n",
    "    .AddAzureOpenAIChatCompletion(modelDeploy, endpoint, new DefaultAzureCredential());\n",
    "\n",
    "// ログを標準出力に\n",
    "builder.Services.AddLogging( lb => {\n",
    "    //lb.AddFilter(\"Microsoft.SemanticKernel\", LogLevel.Trace);\n",
    "    lb.AddSimpleConsole(opt => { \n",
    "        opt.TimestampFormat = \"[hh:mm:ss.fff] \"; \n",
    "        opt.SingleLine = true;});\n",
    "});\n",
    "\n",
    "// プラグインの組み込み\n",
    "builder.Plugins.AddFromType<MyPlugin>(\"myplugin\");"
   ]
  },
  {
   "cell_type": "markdown",
   "metadata": {},
   "source": [
    "### まずは直接呼び出すパターン\n",
    "\n",
    "実用することはあまりないと思うが動作確認として"
   ]
  },
  {
   "cell_type": "code",
   "execution_count": 5,
   "metadata": {
    "vscode": {
     "languageId": "polyglot-notebook"
    }
   },
   "outputs": [
    {
     "name": "stdout",
     "output_type": "stream",
     "text": [
      "[12:24:27.858] info: Microsoft.SemanticKernel.KernelFunction[0] Function myplugin-get_today invoking.\n",
      "[12:24:27.861] info: Submission#2.MyPlugin[0] getting today\n",
      "[12:24:27.862] info: Microsoft.SemanticKernel.KernelFunction[0] Function myplugin-get_today succeeded.\n",
      "[12:24:27.866] info: Microsoft.SemanticKernel.KernelFunction[0] Function myplugin-get_today completed. Duration: 0.003047s\n"
     ]
    },
    {
     "data": {
      "text/html": [
       "<span>2024-11-12 03:24:27Z</span>"
      ]
     },
     "metadata": {},
     "output_type": "display_data"
    },
    {
     "name": "stdout",
     "output_type": "stream",
     "text": [
      "[12:24:27.870] info: Microsoft.SemanticKernel.KernelFunction[0] Function myplugin-get_weather invoking.\n",
      "[12:24:27.871] info: Submission#2.MyPlugin[0] getting weather on 11/13/2024 03:24:27 +00:00\n",
      "[12:24:27.871] info: Microsoft.SemanticKernel.KernelFunction[0] Function myplugin-get_weather succeeded.\n",
      "[12:24:27.871] info: Microsoft.SemanticKernel.KernelFunction[0] Function myplugin-get_weather completed. Duration: 0.0014962s\n"
     ]
    },
    {
     "data": {
      "text/plain": [
       "雨"
      ]
     },
     "metadata": {},
     "output_type": "display_data"
    }
   ],
   "source": [
    "var kernel = builder.Build();\n",
    "\n",
    "// 現在時刻を取得するプラグイン\n",
    "var ret1 = await kernel.InvokeAsync<DateTimeOffset>(\"myplugin\", \"get_today\");\n",
    "ret1.Display();\n",
    "\n",
    "// 天気を取得するプラグインを呼び出す\n",
    "var args = new KernelArguments(){\n",
    "    {\"date\", DateTimeOffset.UtcNow.AddDays(1)}\n",
    "};\n",
    "var ret2 = await kernel.InvokeAsync<string>(\"myplugin\", \"get_weather\", args);\n",
    "ret2.Display();\n"
   ]
  },
  {
   "cell_type": "markdown",
   "metadata": {
    "vscode": {
     "languageId": "polyglot-notebook"
    }
   },
   "source": [
    "### テンプレートエンジンを使用して呼び出す"
   ]
  },
  {
   "cell_type": "code",
   "execution_count": 17,
   "metadata": {
    "vscode": {
     "languageId": "polyglot-notebook"
    }
   },
   "outputs": [
    {
     "name": "stdout",
     "output_type": "stream",
     "text": [
      "[12:38:46.476] info: Microsoft.SemanticKernel.KernelFunction[0] Function (null)-InvokePromptAsync_187bc6e6b6364049a4c07789468856a1 invoking.\n",
      "[12:38:46.477] info: Microsoft.SemanticKernel.KernelFunction[0] Function myplugin-get_today invoking.\n",
      "[12:38:46.477] info: Submission#2.MyPlugin[0] getting today\n",
      "[12:38:46.477] info: Microsoft.SemanticKernel.KernelFunction[0] Function myplugin-get_today succeeded.\n",
      "[12:38:46.477] info: Microsoft.SemanticKernel.KernelFunction[0] Function myplugin-get_today completed. Duration: 2.08E-05s\n",
      "[12:39:34.609] info: Microsoft.SemanticKernel.Connectors.AzureOpenAI.AzureOpenAIChatCompletionService[0] Prompt tokens: 46. Completion tokens: 404. Total tokens: 450.\n"
     ]
    },
    {
     "data": {
      "text/plain": [
       "2024年11月12日　火曜日\n",
       "\n",
       "今日は学校が休みの日だったので、朝はゆっくり寝ていました。おひさまが明るくて、お部屋の中がぽかぽかでした。起きてから、まずは朝ごはんを食べました。ママが作ってくれたトーストと、ボクの好きなイチゴジャムをぬりました。すごくおいしかったです。\n",
       "\n",
       "朝ごはんのあとは、近くの公園に遊びに行きました。秋の葉っぱがいっぱい落ちていて、友だちといっしょにかけっこしたり、葉っぱを集めて山を作ったりしました。なんだか、かさかさした音が楽しかったです。\n",
       "\n",
       "お昼ごはんは、おうちに帰ってからスパゲッティを食べました。パパが作ってくれたミートソースが最高でした。デザートにリンゴも食べて、お腹いっぱいになりました。\n",
       "\n",
       "午後はおうちで宿題をしました。算数の問題がちょっとむずかしかったけど、ママが手伝ってくれたので、なんとか全部解けました。そのあと、少しテレビを見てから、弟と一緒にブロックで遊びました。大きなお城ができて、大満足でした。\n",
       "\n",
       "夕ご飯のあと、お風呂に入ってさっぱりして、もう眠たくなってきました。明日は学校があるので、今日のうちにランドセルの用意をしておこうと思います。\n",
       "\n",
       "今日はとっても楽しい一日だったので、いい夢が見られそうです。また明日も楽しい一日になりますように。\n",
       "\n",
       "おやすみなさい。"
      ]
     },
     "metadata": {},
     "output_type": "display_data"
    },
    {
     "name": "stdout",
     "output_type": "stream",
     "text": [
      "[12:39:34.609] info: Microsoft.SemanticKernel.KernelFunction[0] Function (null)-InvokePromptAsync_187bc6e6b6364049a4c07789468856a1 succeeded.\n",
      "[12:39:34.609] info: Microsoft.SemanticKernel.KernelFunction[0] Function (null)-InvokePromptAsync_187bc6e6b6364049a4c07789468856a1 completed. Duration: 48.1325867s\n"
     ]
    }
   ],
   "source": [
    "var kernel = builder.Build();\n",
    "\n",
    "var promptText = \"\"\"\n",
    "小学生らしい文体で指定された日付の日記を書いてください。\n",
    "\n",
    "今日の日付 : {{myplugin.get_today}}\n",
    "\"\"\";\n",
    "\n",
    "var ret3 = await kernel.InvokePromptAsync(promptText);\n",
    "ret3.GetValue<string>().Display();"
   ]
  },
  {
   "cell_type": "markdown",
   "metadata": {},
   "source": [
    "### Function Calling を使用してプラグイン呼び出しの必要性を判定させる"
   ]
  },
  {
   "cell_type": "code",
   "execution_count": 7,
   "metadata": {
    "vscode": {
     "languageId": "polyglot-notebook"
    }
   },
   "outputs": [],
   "source": [
    "#pragma warning disable SKEXP0001\n",
    "\n",
    "// プラグインの自動判定\n",
    "var execSetting = new PromptExecutionSettings(){\n",
    "    FunctionChoiceBehavior = FunctionChoiceBehavior.Auto()\n",
    "};"
   ]
  },
  {
   "cell_type": "markdown",
   "metadata": {},
   "source": [
    "#### Chat Completion を使う"
   ]
  },
  {
   "cell_type": "code",
   "execution_count": 18,
   "metadata": {
    "vscode": {
     "languageId": "polyglot-notebook"
    }
   },
   "outputs": [
    {
     "name": "stdout",
     "output_type": "stream",
     "text": [
      "[12:39:44.860] info: Microsoft.SemanticKernel.Connectors.AzureOpenAI.AzureOpenAIChatCompletionService[0] Prompt tokens: 127. Completion tokens: 12. Total tokens: 139.\n",
      "[12:39:44.860] info: Microsoft.SemanticKernel.KernelFunction[0] Function myplugin-get_today invoking.\n",
      "[12:39:44.860] info: Submission#2.MyPlugin[0] getting today\n",
      "[12:39:44.860] info: Microsoft.SemanticKernel.KernelFunction[0] Function myplugin-get_today succeeded.\n",
      "[12:39:44.860] info: Microsoft.SemanticKernel.KernelFunction[0] Function myplugin-get_today completed. Duration: 1.37E-05s\n",
      "[12:39:56.731] info: Microsoft.SemanticKernel.Connectors.AzureOpenAI.AzureOpenAIChatCompletionService[0] Prompt tokens: 171. Completion tokens: 26. Total tokens: 197.\n",
      "system : あなたはユーザー補助エージェントです。ユーザーの質問に答えてください。\n",
      "user : クリスマスまであと何日？\n",
      "Assistant : \n",
      "    function_calling: get_today \n",
      "tool : \"2024-11-12T03:39:44.8605962+00:00\"\n",
      "Assistant : 今日は2024年11月12日です。クリスマス（12月25日）まであと43日あります。\n"
     ]
    }
   ],
   "source": [
    "using Microsoft.SemanticKernel.ChatCompletion;\n",
    "\n",
    "// チャット履歴を作成\n",
    "var history = new ChatHistory();\n",
    "history.AddSystemMessage(\"あなたはユーザー補助エージェントです。ユーザーの質問に答えてください。\");\n",
    "history.AddUserMessage(\"クリスマスまであと何日？\");\n",
    "\n",
    "// チャット補完サービスを利用\n",
    "var kernel = builder.Build();\n",
    "var ccsvc = kernel.GetRequiredService<IChatCompletionService>();\n",
    "var ret5 = await ccsvc.GetChatMessageContentAsync(history, execSetting, kernel);\n",
    "history.Add(ret5);\n",
    "//history.Display();\n",
    "\n",
    "// チャット履歴をダンプする(再利用するためにデリゲートにしておく)\n",
    "var dumpChatHistory = (ChatHistory history) => {\n",
    "    #pragma warning disable SKEXP0001\n",
    "    foreach(var msg in history)\n",
    "    {\n",
    "        Console.WriteLine($\"{msg.Role} : {msg.Content}\");\n",
    "        var functionCalling = FunctionCallContent.GetFunctionCalls(msg);\n",
    "        if(functionCalling.Any())\n",
    "        {\n",
    "            foreach(var fc in functionCalling)\n",
    "            {\n",
    "                var funcArgs = fc.Arguments.Count() == 0 ? \"\" : fc.Arguments.Select(fa => fa.Value).Aggregate((x, y) => $\"{x}, {y}\");\n",
    "                Console.WriteLine($\"    function_calling: {fc.FunctionName} {funcArgs}\");\n",
    "            }\n",
    "        }\n",
    "    }\n",
    "};\n",
    "\n",
    "dumpChatHistory(history);\n"
   ]
  },
  {
   "cell_type": "markdown",
   "metadata": {},
   "source": [
    "#### 複数回のプラグイン呼び出し"
   ]
  },
  {
   "cell_type": "code",
   "execution_count": 19,
   "metadata": {
    "vscode": {
     "languageId": "polyglot-notebook"
    }
   },
   "outputs": [
    {
     "name": "stdout",
     "output_type": "stream",
     "text": [
      "[12:40:13.526] info: Microsoft.SemanticKernel.Connectors.AzureOpenAI.AzureOpenAIChatCompletionService[0] Prompt tokens: 140. Completion tokens: 12. Total tokens: 152.\n",
      "[12:40:13.526] info: Microsoft.SemanticKernel.KernelFunction[0] Function myplugin-get_today invoking.\n",
      "[12:40:13.526] info: Submission#2.MyPlugin[0] getting today\n",
      "[12:40:13.526] info: Microsoft.SemanticKernel.KernelFunction[0] Function myplugin-get_today succeeded.\n",
      "[12:40:13.526] info: Microsoft.SemanticKernel.KernelFunction[0] Function myplugin-get_today completed. Duration: 1.39E-05s\n",
      "[12:40:28.642] info: Microsoft.SemanticKernel.Connectors.AzureOpenAI.AzureOpenAIChatCompletionService[0] Prompt tokens: 184. Completion tokens: 51. Total tokens: 235.\n",
      "[12:40:28.642] info: Microsoft.SemanticKernel.KernelFunction[0] Function myplugin-get_weather invoking.\n",
      "[12:40:28.642] info: Submission#2.MyPlugin[0] getting weather on 11/13/2024 00:00:00 +00:00\n",
      "[12:40:28.642] info: Microsoft.SemanticKernel.KernelFunction[0] Function myplugin-get_weather succeeded.\n",
      "[12:40:28.642] info: Microsoft.SemanticKernel.KernelFunction[0] Function myplugin-get_weather completed. Duration: 5.79E-05s\n",
      "[12:40:38.402] info: Microsoft.SemanticKernel.Connectors.AzureOpenAI.AzureOpenAIChatCompletionService[0] Prompt tokens: 231. Completion tokens: 91. Total tokens: 322.\n",
      "system : あなたはユーザー補助エージェントです。ユーザーの質問に答えてください。\n",
      "user : 明日の天気を教えて。明日の日付と服装の注意も教えて。\n",
      "Assistant : \n",
      "    function_calling: get_today \n",
      "tool : \"2024-11-12T03:40:13.5268125+00:00\"\n",
      "Assistant : \n",
      "    function_calling: get_weather 2024-11-13T00:00:00.0000000+00:00\n",
      "tool : 晴れ\n",
      "Assistant : 明日、2024年11月13日の天気は「晴れ」です。\n",
      "\n",
      "晴れの日は、一般的に日中は暖かくなりますが、朝晩は冷え込むことがあるので、重ね着をして調節できるようにすると良いでしょう。また、紫外線対策に注意してください。帽子やサングラスを持参するのもおすすめです。\n"
     ]
    }
   ],
   "source": [
    "using Microsoft.SemanticKernel.ChatCompletion;\n",
    "\n",
    "#pragma warning disable SKEXP0001\n",
    "\n",
    "// チャット履歴を作成\n",
    "var history = new ChatHistory();\n",
    "history.AddSystemMessage(\"あなたはユーザー補助エージェントです。ユーザーの質問に答えてください。\");\n",
    "history.AddUserMessage(\"明日の天気を教えて。明日の日付と服装の注意も教えて。\");\n",
    "\n",
    "// チャット補完サービスを利用\n",
    "var kernel = builder.Build();\n",
    "var ccsvc = kernel.GetRequiredService<IChatCompletionService>();\n",
    "var ret5 = await ccsvc.GetChatMessageContentAsync(history, execSetting, kernel);\n",
    "history.Add(ret5);\n",
    "//history.Display();\n",
    "dumpChatHistory(history);\n"
   ]
  },
  {
   "cell_type": "code",
   "execution_count": 15,
   "metadata": {
    "vscode": {
     "languageId": "polyglot-notebook"
    }
   },
   "outputs": [
    {
     "name": "stdout",
     "output_type": "stream",
     "text": [
      "[12:34:43.648] info: Microsoft.SemanticKernel.Connectors.AzureOpenAI.AzureOpenAIChatCompletionService[0] Prompt tokens: 136. Completion tokens: 12. Total tokens: 148.\n",
      "[12:34:43.649] info: Microsoft.SemanticKernel.KernelFunction[0] Function myplugin-get_today invoking.\n",
      "[12:34:43.649] info: Submission#2.MyPlugin[0] getting today\n",
      "[12:34:43.649] info: Microsoft.SemanticKernel.KernelFunction[0] Function myplugin-get_today succeeded.\n",
      "[12:34:43.649] info: Microsoft.SemanticKernel.KernelFunction[0] Function myplugin-get_today completed. Duration: 1.78E-05s\n",
      "[12:35:13.407] info: Microsoft.SemanticKernel.Connectors.AzureOpenAI.AzureOpenAIChatCompletionService[0] Prompt tokens: 180. Completion tokens: 226. Total tokens: 406.\n",
      "[12:35:13.408] info: Microsoft.SemanticKernel.KernelFunction[0] Function myplugin-get_weather invoking.\n",
      "[12:35:13.408] info: Submission#2.MyPlugin[0] getting weather on 12/25/2013 00:00:00 +09:00\n",
      "[12:35:13.408] info: Microsoft.SemanticKernel.KernelFunction[0] Function myplugin-get_weather succeeded.\n",
      "[12:35:13.408] info: Microsoft.SemanticKernel.KernelFunction[0] Function myplugin-get_weather completed. Duration: 8.16E-05s\n",
      "[12:35:13.408] info: Microsoft.SemanticKernel.KernelFunction[0] Function myplugin-get_weather invoking.\n",
      "[12:35:13.408] info: Submission#2.MyPlugin[0] getting weather on 12/25/2014 00:00:00 +09:00\n",
      "[12:35:13.408] info: Microsoft.SemanticKernel.KernelFunction[0] Function myplugin-get_weather succeeded.\n",
      "[12:35:13.408] info: Microsoft.SemanticKernel.KernelFunction[0] Function myplugin-get_weather completed. Duration: 1.35E-05s\n",
      "[12:35:13.408] info: Microsoft.SemanticKernel.KernelFunction[0] Function myplugin-get_weather invoking.\n",
      "[12:35:13.408] info: Submission#2.MyPlugin[0] getting weather on 12/25/2015 00:00:00 +09:00\n",
      "[12:35:13.408] info: Microsoft.SemanticKernel.KernelFunction[0] Function myplugin-get_weather succeeded.\n",
      "[12:35:13.408] info: Microsoft.SemanticKernel.KernelFunction[0] Function myplugin-get_weather completed. Duration: 7.5E-06s\n",
      "[12:35:13.408] info: Microsoft.SemanticKernel.KernelFunction[0] Function myplugin-get_weather invoking.\n",
      "[12:35:13.408] info: Submission#2.MyPlugin[0] getting weather on 12/25/2016 00:00:00 +09:00\n",
      "[12:35:13.408] info: Microsoft.SemanticKernel.KernelFunction[0] Function myplugin-get_weather succeeded.\n",
      "[12:35:13.408] info: Microsoft.SemanticKernel.KernelFunction[0] Function myplugin-get_weather completed. Duration: 2.58E-05s\n",
      "[12:35:13.408] info: Microsoft.SemanticKernel.KernelFunction[0] Function myplugin-get_weather invoking.\n",
      "[12:35:13.408] info: Submission#2.MyPlugin[0] getting weather on 12/25/2017 00:00:00 +09:00\n",
      "[12:35:13.408] info: Microsoft.SemanticKernel.KernelFunction[0] Function myplugin-get_weather succeeded.\n",
      "[12:35:13.408] info: Microsoft.SemanticKernel.KernelFunction[0] Function myplugin-get_weather completed. Duration: 5.1E-06s\n",
      "[12:35:13.408] info: Microsoft.SemanticKernel.KernelFunction[0] Function myplugin-get_weather invoking.\n",
      "[12:35:13.408] info: Submission#2.MyPlugin[0] getting weather on 12/25/2018 00:00:00 +09:00\n",
      "[12:35:13.408] info: Microsoft.SemanticKernel.KernelFunction[0] Function myplugin-get_weather succeeded.\n",
      "[12:35:13.408] info: Microsoft.SemanticKernel.KernelFunction[0] Function myplugin-get_weather completed. Duration: 2.39E-05s\n",
      "[12:35:13.408] info: Microsoft.SemanticKernel.KernelFunction[0] Function myplugin-get_weather invoking.\n",
      "[12:35:13.408] info: Submission#2.MyPlugin[0] getting weather on 12/25/2019 00:00:00 +09:00\n",
      "[12:35:13.408] info: Microsoft.SemanticKernel.KernelFunction[0] Function myplugin-get_weather succeeded.\n",
      "[12:35:13.408] info: Microsoft.SemanticKernel.KernelFunction[0] Function myplugin-get_weather completed. Duration: 1.63E-05s\n",
      "[12:35:13.408] info: Microsoft.SemanticKernel.KernelFunction[0] Function myplugin-get_weather invoking.\n",
      "[12:35:13.408] info: Submission#2.MyPlugin[0] getting weather on 12/25/2020 00:00:00 +09:00\n",
      "[12:35:13.408] info: Microsoft.SemanticKernel.KernelFunction[0] Function myplugin-get_weather succeeded.\n",
      "[12:35:13.408] info: Microsoft.SemanticKernel.KernelFunction[0] Function myplugin-get_weather completed. Duration: 1.78E-05s\n",
      "[12:35:13.408] info: Microsoft.SemanticKernel.KernelFunction[0] Function myplugin-get_weather invoking.\n",
      "[12:35:13.408] info: Submission#2.MyPlugin[0] getting weather on 12/25/2021 00:00:00 +09:00\n",
      "[12:35:13.408] info: Microsoft.SemanticKernel.KernelFunction[0] Function myplugin-get_weather succeeded.\n",
      "[12:35:13.408] info: Microsoft.SemanticKernel.KernelFunction[0] Function myplugin-get_weather completed. Duration: 1.21E-05s\n",
      "[12:35:13.408] info: Microsoft.SemanticKernel.KernelFunction[0] Function myplugin-get_weather invoking.\n",
      "[12:35:13.408] info: Submission#2.MyPlugin[0] getting weather on 12/25/2022 00:00:00 +09:00\n",
      "[12:35:13.408] info: Microsoft.SemanticKernel.KernelFunction[0] Function myplugin-get_weather succeeded.\n",
      "[12:35:13.408] info: Microsoft.SemanticKernel.KernelFunction[0] Function myplugin-get_weather completed. Duration: 9.6E-06s\n",
      "[12:35:24.926] info: Microsoft.SemanticKernel.Connectors.AzureOpenAI.AzureOpenAIChatCompletionService[0] Prompt tokens: 492. Completion tokens: 48. Total tokens: 540.\n",
      "system : あなたはユーザー補助エージェントです。ユーザーの質問に答えてください。\n",
      "user : 過去10年でクリスマスに雪が降った年を教えて\n",
      "Assistant : \n",
      "    function_calling: get_today \n",
      "tool : \"2024-11-12T03:34:43.6490725+00:00\"\n",
      "Assistant : \n",
      "    function_calling: get_weather 2013-12-25\n",
      "    function_calling: get_weather 2014-12-25\n",
      "    function_calling: get_weather 2015-12-25\n",
      "    function_calling: get_weather 2016-12-25\n",
      "    function_calling: get_weather 2017-12-25\n",
      "    function_calling: get_weather 2018-12-25\n",
      "    function_calling: get_weather 2019-12-25\n",
      "    function_calling: get_weather 2020-12-25\n",
      "    function_calling: get_weather 2021-12-25\n",
      "    function_calling: get_weather 2022-12-25\n",
      "tool : 晴れ\n",
      "tool : 雨\n",
      "tool : 晴れ\n",
      "tool : 晴れ\n",
      "tool : 晴れ\n",
      "tool : 曇り\n",
      "tool : 雪\n",
      "tool : 晴れ\n",
      "tool : 曇り\n",
      "tool : 雨\n",
      "Assistant : 過去10年でクリスマス（12月25日）に雪が降ったのは、2019年の年です。他の年は晴れや曇り、または雨が降っていました。\n"
     ]
    }
   ],
   "source": [
    "using Microsoft.SemanticKernel.ChatCompletion;\n",
    "\n",
    "#pragma warning disable SKEXP0001\n",
    "\n",
    "// チャット履歴を作成\n",
    "var history = new ChatHistory();\n",
    "history.AddSystemMessage(\"あなたはユーザー補助エージェントです。ユーザーの質問に答えてください。\");\n",
    "history.AddUserMessage(\"過去10年でクリスマスに雪が降った年を教えて\");\n",
    "\n",
    "// チャット補完サービスを利用\n",
    "var kernel = builder.Build();\n",
    "var ccsvc = kernel.GetRequiredService<IChatCompletionService>();\n",
    "var ret6 = await ccsvc.GetChatMessageContentAsync(history, execSetting, kernel);\n",
    "history.Add(ret6);\n",
    "\n",
    "// Microsoft.DotNet.Interactive.Formatting.Formatter.ListExpansionLimit = 30;\n",
    "// history.Display();\n",
    "dumpChatHistory(history);"
   ]
  }
 ],
 "metadata": {
  "kernelspec": {
   "display_name": ".NET (C#)",
   "language": "C#",
   "name": ".net-csharp"
  },
  "language_info": {
   "name": "csharp"
  },
  "polyglot_notebook": {
   "kernelInfo": {
    "defaultKernelName": "csharp",
    "items": [
     {
      "aliases": [],
      "name": "csharp"
     }
    ]
   }
  }
 },
 "nbformat": 4,
 "nbformat_minor": 2
}
