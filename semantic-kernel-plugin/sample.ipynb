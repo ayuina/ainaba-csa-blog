{
 "cells": [
  {
   "cell_type": "markdown",
   "metadata": {
    "vscode": {
     "languageId": "polyglot-notebook"
    }
   },
   "source": [
    "# はじめに\n",
    "\n"
   ]
  },
  {
   "cell_type": "code",
   "execution_count": null,
   "metadata": {
    "vscode": {
     "languageId": "polyglot-notebook"
    }
   },
   "outputs": [],
   "source": [
    "#r \"nuget: Microsoft.Extensions.Configuration\"\n",
    "#r \"nuget: Microsoft.Extensions.Configuration.Json\"\n",
    "\n",
    "using System.IO;\n",
    "using Microsoft.Extensions.Configuration;\n",
    "\n",
    "\n",
    "var config = new ConfigurationBuilder()\n",
    "    .AddJsonFile( Path.Combine(Environment.CurrentDirectory, \"appsettings.json\"))\n",
    "    .Build();\n",
    "\n",
    "var aoaiEndpoint = config[\"AOAI_ENDPOINT\"];\n",
    "var modelDeploy = config[\"MODEL_DEPLOY_NAME\"];\n"
   ]
  }
 ],
 "metadata": {
  "language_info": {
   "name": "csharp"
  }
 },
 "nbformat": 4,
 "nbformat_minor": 2
}
